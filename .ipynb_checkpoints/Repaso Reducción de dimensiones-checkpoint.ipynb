{
 "cells": [
  {
   "cell_type": "code",
   "execution_count": null,
   "id": "992d1737-2c65-4f6d-8693-ddd97e6b4eab",
   "metadata": {},
   "outputs": [],
   "source": [
    "Repaso Reducción de dimensiones | Análisis del componente principal | PCA |Machine Learning| Python\n",
    "https://www.youtube.com/watch?v=s_Juv3vX9bo&t=537s\n"
   ]
  },
  {
   "cell_type": "code",
   "execution_count": 2,
   "id": "2425b572-df0b-4001-be37-cf7b508e60cd",
   "metadata": {},
   "outputs": [],
   "source": [
    "import matplotlib.pyplot as plt\n",
    "import seaborn as sns\n",
    "import pandas as pd\n",
    "import numpy as np\n",
    "\n",
    "from sklearn.datasets import make_blobs\n",
    "from sklearn import decomposition"
   ]
  }
 ],
 "metadata": {
  "kernelspec": {
   "display_name": "Python 3 (ipykernel)",
   "language": "python",
   "name": "python3"
  },
  "language_info": {
   "codemirror_mode": {
    "name": "ipython",
    "version": 3
   },
   "file_extension": ".py",
   "mimetype": "text/x-python",
   "name": "python",
   "nbconvert_exporter": "python",
   "pygments_lexer": "ipython3",
   "version": "3.9.8"
  }
 },
 "nbformat": 4,
 "nbformat_minor": 5
}
