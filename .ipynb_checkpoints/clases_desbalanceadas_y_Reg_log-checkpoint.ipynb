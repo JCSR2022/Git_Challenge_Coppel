{
 "cells": [
  {
   "cell_type": "markdown",
   "id": "46092b72-7d99-46c0-b50a-264196ded132",
   "metadata": {},
   "source": [
    "Repaso Clases desbalanceadas\n",
    "Cómo crear Clasificadores de Machine Learning ante Clases Desbalanceadas asignando Pesos con Python\n",
    "https://www.youtube.com/watch?v=2FbugqoBz94&list=RDCMUCeyAuzke3347naesZQXi2zQ&index=3"
   ]
  },
  {
   "cell_type": "code",
   "execution_count": 4,
   "id": "e39ce886-2a52-4f84-8560-c9bba6f17539",
   "metadata": {},
   "outputs": [],
   "source": [
    "import matplotlib.pyplot as plt\n",
    "import pandas as pd\n",
    "import numpy as np\n",
    "from sklearn.linear_model import LogisticRegression\n",
    "from sklearn.metrics import confusion_matrix\n",
    "from sklearn.metrics import accuracy_score \n"
   ]
  },
  {
   "cell_type": "code",
   "execution_count": 6,
   "id": "5f44bc1a-c87a-4b62-b586-04dd9b12f357",
   "metadata": {},
   "outputs": [
    {
     "data": {
      "text/plain": [
       "(329, 31)"
      ]
     },
     "execution_count": 6,
     "metadata": {},
     "output_type": "execute_result"
    }
   ],
   "source": [
    "#df = pd.read_csv(\"https://github.com/CodigoMaquina/code/blob/main/datos/cancer.csv\")\n",
    "df = pd.read_csv(\"https://raw.githubusercontent.com/CodigoMaquina/code/main/datos/cancer.csv\")\n",
    "df.shape\n"
   ]
  },
  {
   "cell_type": "code",
   "execution_count": 7,
   "id": "f923082b-9c81-47df-b7ae-4c3863c76886",
   "metadata": {},
   "outputs": [],
   "source": [
    "def matriz_de_confusion(clases_reales, clases_predichas, titulo):\n",
    "    \"\"\" Visualiza la matriz de confusión \"\"\"\n",
    "   \n",
    "    matriz = confusion_matrix(clases_reales, clases_predichas)\n",
    "    accuracy = accuracy_score(clases_reales, clases_predichas)\n",
    "    \n",
    "    #Código de matplotlib para graficar \n",
    "    plt.figure(figsize=(4, 4))\n",
    "    matriz = pd.DataFrame(matriz, \n",
    "                          columns=[\"0 : Sano\", \"1 : Cáncer\"])\n",
    "    plt.matshow(matriz, cmap=\"summer\", vmin=0, vmax=20, fignum=1)\n",
    "    plt.xticks(range(len(matriz.columns)), matriz.columns, rotation=45)\n",
    "    plt.yticks(range(len(matriz.columns)), matriz.columns)\n",
    "    etiquetas = ((\"Verdaderos\\nnegativos\", \"Falsos\\npositivos\"),\n",
    "                 (\"Falsos\\nnegativos\", \"Verdaderos\\npositivos\"))\n",
    "    plt.text(1.60, -0.30, titulo, fontsize=25, c=\"red\")\n",
    "    plt.text(2.1, 0.10, \"Accuracy: %0.2f\" % accuracy, fontsize=20)\n",
    "    for i in range(len(matriz.columns)):\n",
    "        for j in range(len(matriz.columns)):\n",
    "            plt.text(i, j + 0.14, str(matriz.iloc[i, j]),\n",
    "                     fontsize=30, ha=\"center\", va=\"center\")\n",
    "            plt.text(i, j - 0.25, etiquetas[i][j],\n",
    "                     fontsize=11.5, ha=\"center\", va=\"center\")           \n",
    "    plt.show()"
   ]
  },
  {
   "cell_type": "markdown",
   "id": "d0064c22-b33c-486f-8f93-6d70358faee9",
   "metadata": {},
   "source": [
    "Datos de Cáncer de Mama\n",
    "\n",
    "Distribución de Clases (Desbalanceadas)"
   ]
  },
  {
   "cell_type": "code",
   "execution_count": 8,
   "id": "9a0c7217-126d-4e2e-85ab-e6d7bc1b6b1d",
   "metadata": {},
   "outputs": [
    {
     "data": {
      "image/png": "[encoded data removed]",
      "text/plain": [
       "<Figure size 640x480 with 1 Axes>"
      ]
     },
     "metadata": {},
     "output_type": "display_data"
    }
   ],
   "source": [
    "# University of Wisconsin, Clinical Sciences Center \n",
    "info = np.loadtxt(\"https://raw.githubusercontent.com/CodigoMaquina/code/main/datos/cancer.csv\", delimiter=\",\", unpack=True)\n",
    "\n",
    "# 30 características: radio, textura, area, entre otros\n",
    "datos = info[:-1].T\n",
    "\n",
    "# 0 : SANO, 1 : CÁNCER\n",
    "clase = info[-1]\n",
    "\n",
    "plt.hist(clase, bins=2)\n",
    "plt.show()"
   ]
  },
  {
   "cell_type": "markdown",
   "id": "a8f7aaa9-519b-412b-a3bf-a46bff03c236",
   "metadata": {},
   "source": [
    "Clasificador Regresión Logística\n",
    "\r\n",
    "Asignación de Pesos a Clases"
   ]
  },
  {
   "cell_type": "code",
   "execution_count": null,
   "id": "7830d3f9-2ac2-443c-bbe1-0bd13a434f7c",
   "metadata": {},
   "outputs": [],
   "source": [
    "modelo = LogisticRegression().fit(datos, clase)\n",
    "matriz_de_confusion(clase, modelo.predict(datos), \"Normal\") \n",
    "\n",
    "modelo = LogisticRegression(class_weight={0 : 1, 1 : 100}).fit(datos, clase)\n",
    "matriz_de_confusion(clase, modelo.predict(datos), \"Pesos\") \n",
    "\n",
    "modelo = LogisticRegression(class_weight=\"balanced\").fit(datos, clase)\n",
    "matriz_de_confusion(clase, modelo.predict(datos), \"Balanceado\") \n",
    "\n",
    "modelo = LogisticRegression(class_weight={0 : 0.55, 1 : 5.5}).fit(datos, clase)\n",
    "matriz_de_confusion(clase, modelo.predict(datos), \"Equivalente\") \n",
    "\n",
    "print(330 / (2 * 300), 330 / (2 * 30))"
   ]
  }
 ],
 "metadata": {
  "kernelspec": {
   "display_name": "Python 3 (ipykernel)",
   "language": "python",
   "name": "python3"
  },
  "language_info": {
   "codemirror_mode": {
    "name": "ipython",
    "version": 3
   },
   "file_extension": ".py",
   "mimetype": "text/x-python",
   "name": "python",
   "nbconvert_exporter": "python",
   "pygments_lexer": "ipython3",
   "version": "3.9.8"
  }
 },
 "nbformat": 4,
 "nbformat_minor": 5
}
